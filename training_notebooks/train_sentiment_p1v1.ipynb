{
  "nbformat": 4,
  "nbformat_minor": 0,
  "metadata": {
    "colab": {
      "name": "train_sentiment_p1v1.ipynb",
      "provenance": [],
      "collapsed_sections": [],
      "authorship_tag": "ABX9TyNMR7DBooX8pPrU0sKo/jpx",
      "include_colab_link": true
    },
    "kernelspec": {
      "name": "python3",
      "display_name": "Python 3"
    },
    "language_info": {
      "name": "python"
    }
  },
  "cells": [
    {
      "cell_type": "markdown",
      "metadata": {
        "id": "view-in-github",
        "colab_type": "text"
      },
      "source": [
        "<a href=\"https://colab.research.google.com/github/sreramk1/sentiment-analysis/blob/main/training_notebooks/train_sentiment_p1v1.ipynb\" target=\"_parent\"><img src=\"https://colab.research.google.com/assets/colab-badge.svg\" alt=\"Open In Colab\"/></a>"
      ]
    },
    {
      "cell_type": "markdown",
      "metadata": {
        "id": "esIcWboKCBvL"
      },
      "source": [
        "# Training the Model for the first time (initialized with random weights)\n",
        "\n",
        "In this notebook, I had used the classes I had written to simplify the training process for the sentiment analysis model: https://github.com/sreramk1/sentiment-analysis.git"
      ]
    },
    {
      "cell_type": "code",
      "metadata": {
        "colab": {
          "base_uri": "https://localhost:8080/"
        },
        "id": "JLJiw0RCwU8s",
        "outputId": "8b5e528c-5958-4114-99af-65c8cf0bc53c"
      },
      "source": [
        "!rm -r sentiment-analysis\n",
        "!git clone https://github.com/sreramk1/sentiment-analysis.git"
      ],
      "execution_count": 1,
      "outputs": [
        {
          "output_type": "stream",
          "name": "stdout",
          "text": [
            "Cloning into 'sentiment-analysis'...\n",
            "remote: Enumerating objects: 209, done.\u001b[K\n",
            "remote: Counting objects: 100% (209/209), done.\u001b[K\n",
            "remote: Compressing objects: 100% (142/142), done.\u001b[K\n",
            "remote: Total 209 (delta 113), reused 140 (delta 58), pack-reused 0\u001b[K\n",
            "Receiving objects: 100% (209/209), 8.83 MiB | 11.90 MiB/s, done.\n",
            "Resolving deltas: 100% (113/113), done.\n"
          ]
        }
      ]
    },
    {
      "cell_type": "code",
      "metadata": {
        "id": "Sa-oZ4x738pF"
      },
      "source": [
        "import os\n",
        "import sys\n",
        "\n",
        "sys.path.append('/content/sentiment-analysis')\n",
        "os.environ['PYTHONPATH'] += \":/content/sentiment-analysis\""
      ],
      "execution_count": 2,
      "outputs": []
    },
    {
      "cell_type": "code",
      "metadata": {
        "id": "5zyVTSMfzlEz"
      },
      "source": [
        "from util.jupyter_helpers import display_tf_ds\n",
        "\n",
        "from train_validate_predict.pandas_read_ds_from_csv import PandasReadDatasetFromCSV\n",
        "from sentiment_v1.preprocess_ds import TweetReviewCsvToPdDataFrame\n",
        "from sentiment_v1.convert_ds_to_tensors import TweetReviewTfDataset\n",
        "from sentiment_v1.model_builder import SentimentLSTMDense64Dense32Dense16Dense8Dense1\n",
        "from train_validate_predict.model_train_validate_predict import ModelTrainValidatePredict\n",
        "from model.keras_sequence_model_weights import KerasSequenceModelWeights"
      ],
      "execution_count": 3,
      "outputs": []
    },
    {
      "cell_type": "code",
      "metadata": {
        "id": "imUkUVHA1fOl"
      },
      "source": [
        "pd_dataset = PandasReadDatasetFromCSV(\"/content/sentiment-analysis/third_party/dataset/airline_sentiment_analysis.csv\")\n",
        "pd_dataset.load_dataset()\n",
        "ds = pd_dataset.get_dataset()"
      ],
      "execution_count": 4,
      "outputs": []
    },
    {
      "cell_type": "code",
      "metadata": {
        "colab": {
          "base_uri": "https://localhost:8080/",
          "height": 363
        },
        "id": "gvAkRqmC1tIy",
        "outputId": "49807773-842a-488d-df89-605900b6f51a"
      },
      "source": [
        "tweet_review_csv_to_pd_dataframe = TweetReviewCsvToPdDataFrame(pd_dataset)\n",
        "pd_train_ds = tweet_review_csv_to_pd_dataframe.prepare_and_get_train_ds()\n",
        "pd_train_ds[0:10]"
      ],
      "execution_count": 5,
      "outputs": [
        {
          "output_type": "execute_result",
          "data": {
            "text/html": [
              "<div>\n",
              "<style scoped>\n",
              "    .dataframe tbody tr th:only-of-type {\n",
              "        vertical-align: middle;\n",
              "    }\n",
              "\n",
              "    .dataframe tbody tr th {\n",
              "        vertical-align: top;\n",
              "    }\n",
              "\n",
              "    .dataframe thead th {\n",
              "        text-align: right;\n",
              "    }\n",
              "</style>\n",
              "<table border=\"1\" class=\"dataframe\">\n",
              "  <thead>\n",
              "    <tr style=\"text-align: right;\">\n",
              "      <th></th>\n",
              "      <th>Unnamed: 0</th>\n",
              "      <th>airline_sentiment</th>\n",
              "      <th>text</th>\n",
              "    </tr>\n",
              "  </thead>\n",
              "  <tbody>\n",
              "    <tr>\n",
              "      <th>10959</th>\n",
              "      <td>13967</td>\n",
              "      <td>0</td>\n",
              "      <td>-- This is after you Cancelled Flightled our f...</td>\n",
              "    </tr>\n",
              "    <tr>\n",
              "      <th>6309</th>\n",
              "      <td>8383</td>\n",
              "      <td>1</td>\n",
              "      <td>you guys are lucky I love you</td>\n",
              "    </tr>\n",
              "    <tr>\n",
              "      <th>4926</th>\n",
              "      <td>6377</td>\n",
              "      <td>0</td>\n",
              "      <td>I am scheduled for the morning,   days after t...</td>\n",
              "    </tr>\n",
              "    <tr>\n",
              "      <th>4287</th>\n",
              "      <td>5422</td>\n",
              "      <td>0</td>\n",
              "      <td>jumped the gun a little Cancelled Flighting ou...</td>\n",
              "    </tr>\n",
              "    <tr>\n",
              "      <th>2483</th>\n",
              "      <td>3101</td>\n",
              "      <td>0</td>\n",
              "      <td>days and not a word from Bad PR guys.</td>\n",
              "    </tr>\n",
              "    <tr>\n",
              "      <th>1534</th>\n",
              "      <td>1949</td>\n",
              "      <td>1</td>\n",
              "      <td>Very quick! TY. I am sorry to hear this. Can y...</td>\n",
              "    </tr>\n",
              "    <tr>\n",
              "      <th>1876</th>\n",
              "      <td>2358</td>\n",
              "      <td>1</td>\n",
              "      <td>Rhonda C. at Atlanta airport redeemed you guys...</td>\n",
              "    </tr>\n",
              "    <tr>\n",
              "      <th>10609</th>\n",
              "      <td>13561</td>\n",
              "      <td>0</td>\n",
              "      <td>not sure why we are being made to stand in lin...</td>\n",
              "    </tr>\n",
              "    <tr>\n",
              "      <th>8077</th>\n",
              "      <td>10534</td>\n",
              "      <td>0</td>\n",
              "      <td>had baggage lost last night, no call from us a...</td>\n",
              "    </tr>\n",
              "    <tr>\n",
              "      <th>8738</th>\n",
              "      <td>11322</td>\n",
              "      <td>0</td>\n",
              "      <td>...Loosing a lot of business by using Barclays...</td>\n",
              "    </tr>\n",
              "  </tbody>\n",
              "</table>\n",
              "</div>"
            ],
            "text/plain": [
              "       Unnamed: 0  ...                                               text\n",
              "10959       13967  ...  -- This is after you Cancelled Flightled our f...\n",
              "6309         8383  ...                      you guys are lucky I love you\n",
              "4926         6377  ...  I am scheduled for the morning,   days after t...\n",
              "4287         5422  ...  jumped the gun a little Cancelled Flighting ou...\n",
              "2483         3101  ...              days and not a word from Bad PR guys.\n",
              "1534         1949  ...  Very quick! TY. I am sorry to hear this. Can y...\n",
              "1876         2358  ...  Rhonda C. at Atlanta airport redeemed you guys...\n",
              "10609       13561  ...  not sure why we are being made to stand in lin...\n",
              "8077        10534  ...  had baggage lost last night, no call from us a...\n",
              "8738        11322  ...  ...Loosing a lot of business by using Barclays...\n",
              "\n",
              "[10 rows x 3 columns]"
            ]
          },
          "metadata": {},
          "execution_count": 5
        }
      ]
    },
    {
      "cell_type": "code",
      "metadata": {
        "colab": {
          "base_uri": "https://localhost:8080/",
          "height": 363
        },
        "id": "aud-kWGW7t82",
        "outputId": "cb8baf5b-7994-4109-8275-e64dd152953d"
      },
      "source": [
        "pd_validate_ds = tweet_review_csv_to_pd_dataframe.prepare_and_get_validate_ds()\n",
        "pd_validate_ds[0:10]"
      ],
      "execution_count": 6,
      "outputs": [
        {
          "output_type": "execute_result",
          "data": {
            "text/html": [
              "<div>\n",
              "<style scoped>\n",
              "    .dataframe tbody tr th:only-of-type {\n",
              "        vertical-align: middle;\n",
              "    }\n",
              "\n",
              "    .dataframe tbody tr th {\n",
              "        vertical-align: top;\n",
              "    }\n",
              "\n",
              "    .dataframe thead th {\n",
              "        text-align: right;\n",
              "    }\n",
              "</style>\n",
              "<table border=\"1\" class=\"dataframe\">\n",
              "  <thead>\n",
              "    <tr style=\"text-align: right;\">\n",
              "      <th></th>\n",
              "      <th>Unnamed: 0</th>\n",
              "      <th>airline_sentiment</th>\n",
              "      <th>text</th>\n",
              "    </tr>\n",
              "  </thead>\n",
              "  <tbody>\n",
              "    <tr>\n",
              "      <th>6841</th>\n",
              "      <td>9136</td>\n",
              "      <td>0</td>\n",
              "      <td>I will make sure to never use your incompetent...</td>\n",
              "    </tr>\n",
              "    <tr>\n",
              "      <th>3197</th>\n",
              "      <td>3998</td>\n",
              "      <td>1</td>\n",
              "      <td>Got me home amid snow &amp;amp; Cancelled Flightla...</td>\n",
              "    </tr>\n",
              "    <tr>\n",
              "      <th>7266</th>\n",
              "      <td>9635</td>\n",
              "      <td>0</td>\n",
              "      <td>your a miserable airline and your loss of reve...</td>\n",
              "    </tr>\n",
              "    <tr>\n",
              "      <th>3530</th>\n",
              "      <td>4425</td>\n",
              "      <td>0</td>\n",
              "      <td>frustrating indeed especially when no one know...</td>\n",
              "    </tr>\n",
              "    <tr>\n",
              "      <th>1086</th>\n",
              "      <td>1420</td>\n",
              "      <td>0</td>\n",
              "      <td>typical caned response from UA, fix your crapp...</td>\n",
              "    </tr>\n",
              "    <tr>\n",
              "      <th>7605</th>\n",
              "      <td>10013</td>\n",
              "      <td>0</td>\n",
              "      <td>and no offers to provide us with a hotel or an...</td>\n",
              "    </tr>\n",
              "    <tr>\n",
              "      <th>11179</th>\n",
              "      <td>14231</td>\n",
              "      <td>0</td>\n",
              "      <td>- AA     Cancelled Flighted on  .   - rebooked...</td>\n",
              "    </tr>\n",
              "    <tr>\n",
              "      <th>742</th>\n",
              "      <td>1016</td>\n",
              "      <td>0</td>\n",
              "      <td>Thank you. Mention that before I boarded she a...</td>\n",
              "    </tr>\n",
              "    <tr>\n",
              "      <th>3667</th>\n",
              "      <td>4614</td>\n",
              "      <td>1</td>\n",
              "      <td>What can we do to bring you back to Jackson, M...</td>\n",
              "    </tr>\n",
              "    <tr>\n",
              "      <th>6165</th>\n",
              "      <td>8188</td>\n",
              "      <td>0</td>\n",
              "      <td>why do you have every channel but How are and ...</td>\n",
              "    </tr>\n",
              "  </tbody>\n",
              "</table>\n",
              "</div>"
            ],
            "text/plain": [
              "       Unnamed: 0  ...                                               text\n",
              "6841         9136  ...  I will make sure to never use your incompetent...\n",
              "3197         3998  ...  Got me home amid snow &amp; Cancelled Flightla...\n",
              "7266         9635  ...  your a miserable airline and your loss of reve...\n",
              "3530         4425  ...  frustrating indeed especially when no one know...\n",
              "1086         1420  ...  typical caned response from UA, fix your crapp...\n",
              "7605        10013  ...  and no offers to provide us with a hotel or an...\n",
              "11179       14231  ...  - AA     Cancelled Flighted on  .   - rebooked...\n",
              "742          1016  ...  Thank you. Mention that before I boarded she a...\n",
              "3667         4614  ...  What can we do to bring you back to Jackson, M...\n",
              "6165         8188  ...  why do you have every channel but How are and ...\n",
              "\n",
              "[10 rows x 3 columns]"
            ]
          },
          "metadata": {},
          "execution_count": 6
        }
      ]
    },
    {
      "cell_type": "code",
      "metadata": {
        "colab": {
          "base_uri": "https://localhost:8080/"
        },
        "id": "UVad23pj748C",
        "outputId": "cd31c01c-ef21-4299-e15e-2978ef498c23"
      },
      "source": [
        "tweet_review_tf_ds = TweetReviewTfDataset(tweet_review_csv_to_pd_dataframe)\n",
        "tf_train_ds = tweet_review_tf_ds.prepare_and_get_train_ds()\n",
        "display_tf_ds.display_tf_ds(tf_train_ds, 1)\n",
        "tf_validate_ds = tweet_review_tf_ds.prepare_and_get_validate_ds()"
      ],
      "execution_count": 7,
      "outputs": [
        {
          "output_type": "stream",
          "name": "stdout",
          "text": [
            "(array([b\"won't see my money again after their poor service    should have stuck with virgin america what was i thinking trying jetblue???\",\n",
            "       b'Jason (      ) at Gate in SAN made my afternoon!!!',\n",
            "       b'Your MileagePlus signup page is broken.',\n",
            "       b'That\\xe2\\x80\\x99s a rather clunky process. Whoever designed that clearly doesn\\xe2\\x80\\x99t understand e-mail    .',\n",
            "       b'the B gates are very far though',\n",
            "       b'yes. Bags came   hr after I arrived at baggage claim. Awful experience on the ground at BHM',\n",
            "       b'your team member at DCA- Tamara R. is her name was awesome. You should have more employees like her!',\n",
            "       b'have you read your own same day travel change policy?',\n",
            "       b\"when will airfare be available through December of this year? I have   major trips coming up and I'm anxious to book them!\",\n",
            "       b'Talk is cheap. Customer service is the action of making things right for the customer. again.',\n",
            "       b\"Awesome, thanks! I'll give a call Late Flightr today. Appreciate the help!\",\n",
            "       b'and a complete lack of faith in your companies. It\\'s really a shame that you think telling me \"it\\'s been a challenging\"',\n",
            "       b'flt      Cancelled Flightled and I get email AM? What happened to courtesy phn call? Had to book diff airline &amp; city',\n",
            "       b\"called last night, after   hrs got call back, can I get a one day pass to admirals club? I'm going to be spending  hrs in DFW\",\n",
            "       b'why was Southwest only airline to Cancelled Flight all flights from Charleston? Was  :  pm flight Cancelled Flightation really weather reLate Flightd?',\n",
            "       b\" appreciate y'all getting the gate issue figured GRR. Plenty open gates, yet we sit and wait on tarmac\",\n",
            "       b'pleasantly surprised with quality of service and flight.Flew LGA-CLE-DEN. Friendly crew. Love the concept of',\n",
            "       b'yes. Thank you. Oct   -oct   ',\n",
            "       b\"Is it reasonable to wait    mins for the bag you made me check because the flight staff couldn't police the overhead bins?\",\n",
            "       b'and    days of Cancelled Flightations, I have driven to   airports in   different states, spent more on gas than my flight.',\n",
            "       b'Thank you! Have a nice evening.',\n",
            "       b'Shavon at customer service desk in Charlotte was fantastic! So helpful and smiling evn after what sounds like long day.Reward her',\n",
            "       b'Congratulations!',\n",
            "       b\"thanks KP.  What's going on w/     tonight.  Bad update online and phone. Can't u give customers good info. Not waste their time?!\",\n",
            "       b'awesome, thanks!',\n",
            "       b'sorry for the delayed response. It was UA Chicago to San Fran. Held up for almost an hour on the Tarmac. Also, lost my bags',\n",
            "       b'seriously, all flights from Detroit to Dallas are Cancelled Flightled   days in a row. I want to get home &amp; see my wife &amp; kids.',\n",
            "       b'It was never really \"lost\" it was put on another flight WITH my knowledge we just weren\\'t sure what flight but I have it - TY!',\n",
            "       b'got it taken care of! thank you &lt; ',\n",
            "       b'we have a hot female pilot! Sweet! DCA to SFO! :-)',\n",
            "       b'\"Goodwill\" now at $   .  .  $  ,    x ? = Fine   Still want your new CEO to make a public apology to all passengers of flight    ',\n",
            "       b\"we tried. We are headed to a funeral in Cincinnati and your people didn't even tell us we could get on standby.\",\n",
            "       b\"I get that. But doing it by giving inaccurate/misleading info doesn't seem like a great way to do it.\",\n",
            "       b'Why did you load us in this flying sardine can if you knew the pilots were   hours Late Flight?? beyond belief',\n",
            "       b' hr delay at the start, huge queues at security, no representative to meet us, rude staff at baggage reclaim ',\n",
            "       b'SO BAD service in Miami, AirPort..',\n",
            "       b'Yes thank you. Appreciate u checking...', b'yes please!',\n",
            "       b'I filed a delayed bag report on Saturday! my flight was Cancelled Flightled and I never went anywhere!',\n",
            "       b\"So they didn't drop my bag overnight &amp; now I'm leaving for a week. This is why you were supposed to hold on to the bag....\",\n",
            "       b'My favorite way to travel! Thank you! http://t.co/vGN X ckg ',\n",
            "       b'The pilot of UA    just landed this plane like he was gently placing us into a pile of whipped cream. Smoothest landing ever.',\n",
            "       b'surely much better to let us all share the feedback unless you have something to hide?',\n",
            "       b'your definition and mine of    min is vastly different. I understand the need to get off the plane for maint, but be honest.',\n",
            "       b\"the flights weren't from this morning... It was   flights   on Thursday and   on Monday which turned into Tuesday\",\n",
            "       b\"it's too damn cold to be sitting on this runway with no heat!!!!!\",\n",
            "       b'Just OH-ing a text message I received from an entitled jackass of a friend.',\n",
            "       b\"We've    official complaints signed by Lima supervisor. Customer Relations pls compensate   the   -hour delay\",\n",
            "       b\"\\xe2\\x80\\x9c@JetBlue: Our fleet's on fleek. http://t.co/yZH ZRQM i\\xe2\\x80\\x9d really JetBlue? \\xf0\\x9f\\x98\\x82\\xf0\\x9f\\x98\\x82\\xf0\\x9f\\x98\\x82 hell no... Yall petty\",\n",
            "       b\"Why haven't you released a travel advisory for IAD for tomorrow????!!!!!!!!\",\n",
            "       b'accordingly? U dont respond at all',\n",
            "       b'how do I get my account number if your website says email is unavailable?',\n",
            "       b\"just need to know why it wasn't done like it was promised it would yesterday\",\n",
            "       b'finally made it to rep, who solved my problem.',\n",
            "       b'Bummer. Might have to go with card instead. TY for response though.',\n",
            "       b\"There is no option just to Cancelled Flight? I don't want to change flight, I want to Cancelled Flight.\",\n",
            "       b'Pls help. On hold   long time now. Travelling   business and flight   ORF from MCI was Cancelled Flightled.  Need to get out there ASAP.',\n",
            "       b'seeing your workers time in and time out going above and beyond is why I love flying with you guys. Thank you!',\n",
            "       b'airlines abuse your expensive video equipment and overcharge you for the privilege http://t.co/SdyLuKR pt via',\n",
            "       b\"that's exactly the point. It fits. I'm premier access. Boarding group  . This was a return ticket. I've been doing this for    yrs\",\n",
            "       b': its just a very bad customer service experience// can you help',\n",
            "       b'UA   from Madrid arrived no agent mass confusion we sent to and fro by   UA employees. MaryJo was rude and unhelpful.',\n",
            "       b'thanks for responding.',\n",
            "       b\"the sign in screen had major mobile issues, the responsive design wasn't working properly my Nexus  .\"],\n",
            "      dtype=object), array([0., 1., 0., 0., 0., 0., 1., 0., 0., 0., 1., 0., 0., 0., 0., 0., 1.,\n",
            "       1., 0., 0., 1., 1., 1., 0., 1., 0., 0., 0., 1., 1., 0., 0., 0., 0.,\n",
            "       0., 0., 1., 1., 0., 0., 1., 1., 0., 0., 0., 0., 0., 0., 0., 0., 0.,\n",
            "       0., 0., 1., 0., 0., 0., 1., 0., 1., 0., 0., 1., 0.], dtype=float32))\n"
          ]
        }
      ]
    },
    {
      "cell_type": "code",
      "metadata": {
        "colab": {
          "base_uri": "https://localhost:8080/"
        },
        "id": "Iqbuw78t8aiu",
        "outputId": "b3e528b5-ab23-4a0a-f9d4-c2a44b49bdb7"
      },
      "source": [
        "model_builder = SentimentLSTMDense64Dense32Dense16Dense8Dense1(tf_ds_store=tweet_review_tf_ds)\n",
        "model_builder.build_model()\n",
        "model = model_builder.get_model()\n",
        "model_trainer = ModelTrainValidatePredict(tweet_review_tf_ds, model)\n",
        "model_trainer.predict(\"This is a bad airline\")"
      ],
      "execution_count": 8,
      "outputs": [
        {
          "output_type": "execute_result",
          "data": {
            "text/plain": [
              "array([[-0.00484287]], dtype=float32)"
            ]
          },
          "metadata": {},
          "execution_count": 8
        }
      ]
    },
    {
      "cell_type": "code",
      "metadata": {
        "colab": {
          "base_uri": "https://localhost:8080/"
        },
        "id": "M1N9Mdhb8ztk",
        "outputId": "22bf04fa-f0ad-4dad-f07d-e1c326a66226"
      },
      "source": [
        "model_trainer.train()\n",
        "model_trainer.evaluate()"
      ],
      "execution_count": 9,
      "outputs": [
        {
          "output_type": "stream",
          "name": "stdout",
          "text": [
            "Epoch 1/10\n",
            "145/145 [==============================] - ETA: 0s - loss: 0.5771 - accuracy: 0.7920WARNING:tensorflow:Your input ran out of data; interrupting training. Make sure that your dataset or generator can generate at least `steps_per_epoch * epochs` batches (in this case, 30 batches). You may need to use the repeat() function when building your dataset.\n",
            "145/145 [==============================] - 21s 90ms/step - loss: 0.5771 - accuracy: 0.7920 - val_loss: 0.4096 - val_accuracy: 0.8081\n",
            "Epoch 2/10\n",
            "145/145 [==============================] - 10s 66ms/step - loss: 0.4017 - accuracy: 0.7920\n",
            "Epoch 3/10\n",
            "145/145 [==============================] - 10s 66ms/step - loss: 0.2846 - accuracy: 0.8233\n",
            "Epoch 4/10\n",
            "145/145 [==============================] - 9s 65ms/step - loss: 0.1759 - accuracy: 0.9411\n",
            "Epoch 5/10\n",
            "145/145 [==============================] - 10s 66ms/step - loss: 0.1222 - accuracy: 0.9606\n",
            "Epoch 6/10\n",
            "145/145 [==============================] - 10s 66ms/step - loss: 0.0920 - accuracy: 0.9717\n",
            "Epoch 7/10\n",
            "145/145 [==============================] - 9s 65ms/step - loss: 0.0689 - accuracy: 0.9810\n",
            "Epoch 8/10\n",
            "145/145 [==============================] - 10s 66ms/step - loss: 0.0544 - accuracy: 0.9859\n",
            "Epoch 9/10\n",
            "145/145 [==============================] - 10s 67ms/step - loss: 0.0408 - accuracy: 0.9897\n",
            "Epoch 10/10\n",
            "145/145 [==============================] - 10s 67ms/step - loss: 0.0309 - accuracy: 0.9931\n",
            "3/3 [==============================] - 0s 127ms/step - loss: 0.3877 - accuracy: 0.9121\n"
          ]
        },
        {
          "output_type": "execute_result",
          "data": {
            "text/plain": [
              "(0.3877057135105133, 0.9120831489562988)"
            ]
          },
          "metadata": {},
          "execution_count": 9
        }
      ]
    },
    {
      "cell_type": "code",
      "metadata": {
        "colab": {
          "base_uri": "https://localhost:8080/"
        },
        "id": "N830dxYJ9nOD",
        "outputId": "e97eb0af-a0e2-49ca-f7fa-5b96c59057b0"
      },
      "source": [
        "print(\"after training, bad review:\" + str(model_trainer.predict(\"This is a bad airline\")))\n",
        "print(\"after training, good review:\" + str(model_trainer.predict(\"This is a good airline\")))"
      ],
      "execution_count": 10,
      "outputs": [
        {
          "output_type": "stream",
          "name": "stdout",
          "text": [
            "after training, bad review:[[-1.7543857]]\n",
            "after training, good review:[[3.019926]]\n"
          ]
        }
      ]
    },
    {
      "cell_type": "code",
      "metadata": {
        "id": "JKJPJRRLAyOS"
      },
      "source": [
        "sequence_model_weights = KerasSequenceModelWeights()\n",
        "sequence_model_weights.set_model(model)\n",
        "sequence_model_weights.read_weights_from_model()\n",
        "sequence_model_weights.write_weights_to_file(\"weights.json\")"
      ],
      "execution_count": 11,
      "outputs": []
    },
    {
      "cell_type": "code",
      "metadata": {
        "id": "pHhz3xtnB9fM",
        "colab": {
          "base_uri": "https://localhost:8080/"
        },
        "outputId": "51f1a07b-f562-4898-9367-0351e40969be"
      },
      "source": [
        "another_sequence_model_weights = KerasSequenceModelWeights()\n",
        "loaded_weights = another_sequence_model_weights.load_weights_from_file(\"weights.json\")\n",
        "\n",
        "second_model_builder = SentimentLSTMDense64Dense32Dense16Dense8Dense1(layered_weights=loaded_weights)\n",
        "second_model_builder.build_model()\n",
        "second_model = second_model_builder.get_model()\n",
        "second_model_tvp = ModelTrainValidatePredict(tweet_review_tf_ds, second_model)"
      ],
      "execution_count": 12,
      "outputs": [
        {
          "output_type": "stream",
          "name": "stderr",
          "text": [
            "/usr/local/lib/python3.7/dist-packages/numpy/core/_asarray.py:83: VisibleDeprecationWarning: Creating an ndarray from ragged nested sequences (which is a list-or-tuple of lists-or-tuples-or ndarrays with different lengths or shapes) is deprecated. If you meant to do this, you must specify 'dtype=object' when creating the ndarray\n",
            "  return array(a, dtype, copy=False, order=order)\n"
          ]
        }
      ]
    },
    {
      "cell_type": "code",
      "metadata": {
        "colab": {
          "base_uri": "https://localhost:8080/"
        },
        "id": "rzGZpm3_EgpR",
        "outputId": "04e59d66-b866-4b76-ce84-09cc5e416484"
      },
      "source": [
        "another_sequence_model_weights.set_model(second_model)\n",
        "another_sequence_model_weights.set_weights_to_model()\n",
        "\n",
        "print(\"------------------------------------------------------------\")\n",
        "print(\"for a bad review\" + str(second_model_tvp.predict(\"This is a bad airline\")))\n",
        "print(\"for a good review\" + str(second_model_tvp.predict(\"This is a good airline\")))\n",
        "print(\"------------------------------------------------------------\")"
      ],
      "execution_count": 13,
      "outputs": [
        {
          "output_type": "stream",
          "name": "stdout",
          "text": [
            "------------------------------------------------------------\n",
            "for a bad review[[-1.7543857]]\n",
            "for a good review[[3.019926]]\n",
            "------------------------------------------------------------\n"
          ]
        }
      ]
    }
  ]
}