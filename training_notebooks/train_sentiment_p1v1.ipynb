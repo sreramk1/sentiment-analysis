{
  "nbformat": 4,
  "nbformat_minor": 0,
  "metadata": {
    "colab": {
      "name": "train_sentiment_p1v1.ipynb",
      "provenance": [],
      "collapsed_sections": [],
      "authorship_tag": "ABX9TyNQnIKFLEkKo+CpiHVUWnCs",
      "include_colab_link": true
    },
    "kernelspec": {
      "name": "python3",
      "display_name": "Python 3"
    },
    "language_info": {
      "name": "python"
    }
  },
  "cells": [
    {
      "cell_type": "markdown",
      "metadata": {
        "id": "view-in-github",
        "colab_type": "text"
      },
      "source": [
        "<a href=\"https://colab.research.google.com/github/sreramk1/sentiment-analysis/blob/main/training_notebooks/train_sentiment_p1v1.ipynb\" target=\"_parent\"><img src=\"https://colab.research.google.com/assets/colab-badge.svg\" alt=\"Open In Colab\"/></a>"
      ]
    },
    {
      "cell_type": "markdown",
      "metadata": {
        "id": "esIcWboKCBvL"
      },
      "source": [
        "# Training the Model for the first time (initialized with random weights)\n",
        "\n",
        "In this notebook, I use the classes I had written to simplify the training process for the sentiment analysis model: https://github.com/sreramk1/sentiment-analysis.git"
      ]
    },
    {
      "cell_type": "code",
      "metadata": {
        "colab": {
          "base_uri": "https://localhost:8080/"
        },
        "id": "JLJiw0RCwU8s",
        "outputId": "ada9efc1-c974-4c10-e40c-a4bcb6f6d6c4"
      },
      "source": [
        "!rm -r sentiment-analysis\n",
        "!git clone https://github.com/sreramk1/sentiment-analysis.git"
      ],
      "execution_count": 1,
      "outputs": [
        {
          "output_type": "stream",
          "name": "stdout",
          "text": [
            "rm: cannot remove 'sentiment-analysis': No such file or directory\n",
            "Cloning into 'sentiment-analysis'...\n",
            "remote: Enumerating objects: 187, done.\u001b[K\n",
            "remote: Counting objects: 100% (187/187), done.\u001b[K\n",
            "remote: Compressing objects: 100% (126/126), done.\u001b[K\n",
            "remote: Total 187 (delta 101), reused 128 (delta 53), pack-reused 0\u001b[K\n",
            "Receiving objects: 100% (187/187), 2.49 MiB | 5.63 MiB/s, done.\n",
            "Resolving deltas: 100% (101/101), done.\n"
          ]
        }
      ]
    },
    {
      "cell_type": "code",
      "metadata": {
        "id": "Sa-oZ4x738pF"
      },
      "source": [
        "import os\n",
        "import sys\n",
        "\n",
        "sys.path.append('/content/sentiment-analysis')\n",
        "os.environ['PYTHONPATH'] += \":/content/sentiment-analysis\""
      ],
      "execution_count": 2,
      "outputs": []
    },
    {
      "cell_type": "code",
      "metadata": {
        "id": "5zyVTSMfzlEz"
      },
      "source": [
        "from util.jupyter_helpers import display_tf_ds\n",
        "\n",
        "from train_validate_predict.pandas_read_ds_from_csv import PandasReadDatasetFromCSV\n",
        "from sentiment_v1.preprocess_ds import TweetReviewCsvToPdDataFrame\n",
        "from sentiment_v1.convert_ds_to_tensors import TweetReviewTfDataset\n",
        "from sentiment_v1.model_builder import SentimentLSTMDense64Dense32Dense16Dense8Dense1\n",
        "from train_validate_predict.model_train_validate_predict import ModelTrainValidatePredict\n",
        "from model.keras_sequence_model_weights import KerasSequenceModelWeights"
      ],
      "execution_count": 3,
      "outputs": []
    },
    {
      "cell_type": "code",
      "metadata": {
        "id": "imUkUVHA1fOl"
      },
      "source": [
        "pd_dataset = PandasReadDatasetFromCSV(\"/content/sentiment-analysis/third_party/dataset/airline_sentiment_analysis.csv\")\n",
        "pd_dataset.load_dataset()\n",
        "ds = pd_dataset.get_dataset()"
      ],
      "execution_count": 4,
      "outputs": []
    },
    {
      "cell_type": "code",
      "metadata": {
        "colab": {
          "base_uri": "https://localhost:8080/",
          "height": 363
        },
        "id": "gvAkRqmC1tIy",
        "outputId": "015c1f11-0b09-4c4a-d389-56b40dcb8913"
      },
      "source": [
        "tweet_review_csv_to_pd_dataframe = TweetReviewCsvToPdDataFrame(pd_dataset)\n",
        "pd_train_ds = tweet_review_csv_to_pd_dataframe.prepare_and_get_train_ds()\n",
        "pd_train_ds[0:10]"
      ],
      "execution_count": 5,
      "outputs": [
        {
          "output_type": "execute_result",
          "data": {
            "text/html": [
              "<div>\n",
              "<style scoped>\n",
              "    .dataframe tbody tr th:only-of-type {\n",
              "        vertical-align: middle;\n",
              "    }\n",
              "\n",
              "    .dataframe tbody tr th {\n",
              "        vertical-align: top;\n",
              "    }\n",
              "\n",
              "    .dataframe thead th {\n",
              "        text-align: right;\n",
              "    }\n",
              "</style>\n",
              "<table border=\"1\" class=\"dataframe\">\n",
              "  <thead>\n",
              "    <tr style=\"text-align: right;\">\n",
              "      <th></th>\n",
              "      <th>Unnamed: 0</th>\n",
              "      <th>airline_sentiment</th>\n",
              "      <th>text</th>\n",
              "    </tr>\n",
              "  </thead>\n",
              "  <tbody>\n",
              "    <tr>\n",
              "      <th>2631</th>\n",
              "      <td>3278</td>\n",
              "      <td>0</td>\n",
              "      <td>can you you think about hiring some baggage at...</td>\n",
              "    </tr>\n",
              "    <tr>\n",
              "      <th>11433</th>\n",
              "      <td>14516</td>\n",
              "      <td>0</td>\n",
              "      <td>cut it. Put me on a flt tomorrow.</td>\n",
              "    </tr>\n",
              "    <tr>\n",
              "      <th>3592</th>\n",
              "      <td>4509</td>\n",
              "      <td>0</td>\n",
              "      <td>hey remember that time you lost my husbands ba...</td>\n",
              "    </tr>\n",
              "    <tr>\n",
              "      <th>9445</th>\n",
              "      <td>12137</td>\n",
              "      <td>1</td>\n",
              "      <td>great, thanks!</td>\n",
              "    </tr>\n",
              "    <tr>\n",
              "      <th>6008</th>\n",
              "      <td>7945</td>\n",
              "      <td>1</td>\n",
              "      <td>saved the day:) lost a costumer</td>\n",
              "    </tr>\n",
              "    <tr>\n",
              "      <th>10297</th>\n",
              "      <td>13197</td>\n",
              "      <td>0</td>\n",
              "      <td>followed. I tried to record locator number, ga...</td>\n",
              "    </tr>\n",
              "    <tr>\n",
              "      <th>2099</th>\n",
              "      <td>2625</td>\n",
              "      <td>1</td>\n",
              "      <td>awesome thank you very much for the help</td>\n",
              "    </tr>\n",
              "    <tr>\n",
              "      <th>8944</th>\n",
              "      <td>11549</td>\n",
              "      <td>0</td>\n",
              "      <td>gate agents are now working with everyone to r...</td>\n",
              "    </tr>\n",
              "    <tr>\n",
              "      <th>838</th>\n",
              "      <td>1125</td>\n",
              "      <td>0</td>\n",
              "      <td>that's cool - now what?</td>\n",
              "    </tr>\n",
              "    <tr>\n",
              "      <th>3940</th>\n",
              "      <td>4996</td>\n",
              "      <td>0</td>\n",
              "      <td>No like I said I could not reach anyone at you...</td>\n",
              "    </tr>\n",
              "  </tbody>\n",
              "</table>\n",
              "</div>"
            ],
            "text/plain": [
              "       Unnamed: 0  ...                                               text\n",
              "2631         3278  ...  can you you think about hiring some baggage at...\n",
              "11433       14516  ...                  cut it. Put me on a flt tomorrow.\n",
              "3592         4509  ...  hey remember that time you lost my husbands ba...\n",
              "9445        12137  ...                                     great, thanks!\n",
              "6008         7945  ...                    saved the day:) lost a costumer\n",
              "10297       13197  ...  followed. I tried to record locator number, ga...\n",
              "2099         2625  ...           awesome thank you very much for the help\n",
              "8944        11549  ...  gate agents are now working with everyone to r...\n",
              "838          1125  ...                            that's cool - now what?\n",
              "3940         4996  ...  No like I said I could not reach anyone at you...\n",
              "\n",
              "[10 rows x 3 columns]"
            ]
          },
          "metadata": {},
          "execution_count": 5
        }
      ]
    },
    {
      "cell_type": "code",
      "metadata": {
        "colab": {
          "base_uri": "https://localhost:8080/",
          "height": 363
        },
        "id": "aud-kWGW7t82",
        "outputId": "1c25314c-d510-47df-f6d9-5f488541cc98"
      },
      "source": [
        "pd_validate_ds = tweet_review_csv_to_pd_dataframe.prepare_and_get_validate_ds()\n",
        "pd_validate_ds[0:10]"
      ],
      "execution_count": 6,
      "outputs": [
        {
          "output_type": "execute_result",
          "data": {
            "text/html": [
              "<div>\n",
              "<style scoped>\n",
              "    .dataframe tbody tr th:only-of-type {\n",
              "        vertical-align: middle;\n",
              "    }\n",
              "\n",
              "    .dataframe tbody tr th {\n",
              "        vertical-align: top;\n",
              "    }\n",
              "\n",
              "    .dataframe thead th {\n",
              "        text-align: right;\n",
              "    }\n",
              "</style>\n",
              "<table border=\"1\" class=\"dataframe\">\n",
              "  <thead>\n",
              "    <tr style=\"text-align: right;\">\n",
              "      <th></th>\n",
              "      <th>Unnamed: 0</th>\n",
              "      <th>airline_sentiment</th>\n",
              "      <th>text</th>\n",
              "    </tr>\n",
              "  </thead>\n",
              "  <tbody>\n",
              "    <tr>\n",
              "      <th>316</th>\n",
              "      <td>477</td>\n",
              "      <td>1</td>\n",
              "      <td>wifi AND better seating.</td>\n",
              "    </tr>\n",
              "    <tr>\n",
              "      <th>7418</th>\n",
              "      <td>9800</td>\n",
              "      <td>0</td>\n",
              "      <td>Any word on accommodations for the passengers ...</td>\n",
              "    </tr>\n",
              "    <tr>\n",
              "      <th>3068</th>\n",
              "      <td>3838</td>\n",
              "      <td>0</td>\n",
              "      <td>of course but they were just as helpless as ev...</td>\n",
              "    </tr>\n",
              "    <tr>\n",
              "      <th>6361</th>\n",
              "      <td>8447</td>\n",
              "      <td>0</td>\n",
              "      <td>Gnight checked in at POS &amp;amp; supervisor was ...</td>\n",
              "    </tr>\n",
              "    <tr>\n",
              "      <th>4899</th>\n",
              "      <td>6335</td>\n",
              "      <td>0</td>\n",
              "      <td>when will you be accepting reservations past A...</td>\n",
              "    </tr>\n",
              "    <tr>\n",
              "      <th>4603</th>\n",
              "      <td>5882</td>\n",
              "      <td>1</td>\n",
              "      <td>Luvin me some flights today!! Don't change!!  ...</td>\n",
              "    </tr>\n",
              "    <tr>\n",
              "      <th>10921</th>\n",
              "      <td>13923</td>\n",
              "      <td>0</td>\n",
              "      <td>they don't even give an option to hold.. Just ...</td>\n",
              "    </tr>\n",
              "    <tr>\n",
              "      <th>5179</th>\n",
              "      <td>6702</td>\n",
              "      <td>0</td>\n",
              "      <td>Flight Cancelled Flightled, reFlight Booking P...</td>\n",
              "    </tr>\n",
              "    <tr>\n",
              "      <th>9204</th>\n",
              "      <td>11837</td>\n",
              "      <td>0</td>\n",
              "      <td>to arrive the plane I'm sitting on needs to t...</td>\n",
              "    </tr>\n",
              "    <tr>\n",
              "      <th>2850</th>\n",
              "      <td>3568</td>\n",
              "      <td>0</td>\n",
              "      <td>I was only trying to get my emails. What are y...</td>\n",
              "    </tr>\n",
              "  </tbody>\n",
              "</table>\n",
              "</div>"
            ],
            "text/plain": [
              "       Unnamed: 0  ...                                               text\n",
              "316           477  ...                           wifi AND better seating.\n",
              "7418         9800  ...  Any word on accommodations for the passengers ...\n",
              "3068         3838  ...  of course but they were just as helpless as ev...\n",
              "6361         8447  ...  Gnight checked in at POS &amp; supervisor was ...\n",
              "4899         6335  ...  when will you be accepting reservations past A...\n",
              "4603         5882  ...  Luvin me some flights today!! Don't change!!  ...\n",
              "10921       13923  ...  they don't even give an option to hold.. Just ...\n",
              "5179         6702  ...  Flight Cancelled Flightled, reFlight Booking P...\n",
              "9204        11837  ...   to arrive the plane I'm sitting on needs to t...\n",
              "2850         3568  ...  I was only trying to get my emails. What are y...\n",
              "\n",
              "[10 rows x 3 columns]"
            ]
          },
          "metadata": {},
          "execution_count": 6
        }
      ]
    },
    {
      "cell_type": "code",
      "metadata": {
        "colab": {
          "base_uri": "https://localhost:8080/"
        },
        "id": "UVad23pj748C",
        "outputId": "8a46d79c-fd83-4b41-b58d-03157ba4e473"
      },
      "source": [
        "tweet_review_tf_ds = TweetReviewTfDataset(tweet_review_csv_to_pd_dataframe)\n",
        "tf_train_ds = tweet_review_tf_ds.prepare_and_get_train_ds()\n",
        "display_tf_ds.display_tf_ds(tf_train_ds, 1)\n",
        "tf_validate_ds = tweet_review_tf_ds.prepare_and_get_validate_ds()"
      ],
      "execution_count": 7,
      "outputs": [
        {
          "output_type": "stream",
          "name": "stdout",
          "text": [
            "(array([b\"do you teach your gate agents   lie? Or do they just learn on their own? There was overhead space for my bag,  didn't have to check\",\n",
            "       b'Get a new crystal ball. Cancelled Flight flights before weather hits to rebook me on flight during? Looking like   nights hotel on me.',\n",
            "       b'and was told that its been the case for weeks but is still not resolved.',\n",
            "       b'yeah either by refunding my money or   free round trips to compensate for all the trouble we were put through.',\n",
            "       b'great.',\n",
            "       b'thanks for the reply.  If you can get me a better seat on my next leg to Munich. That would be nice.',\n",
            "       b'     delayed. blue skies all over.',\n",
            "       b'new flight has me at the window. Kind of ticked off. I pick aisle seats only because I hate window seats.',\n",
            "       b'worst experience with you. Cancelled Flightled flight, no voucher and no luggage because \"ramp was broken.\" No other ramps in Charlotte??',\n",
            "       b'Extremely disappointed in United left crew and pssgrs stranded in rain gate with no cover. Left Psngrs   depart plane',\n",
            "       b'an already pleasant flight from London to Charlotte (US   ) was made fantastic by an amazing attendant. Thank you so much Robert!',\n",
            "       b'Weather seriously cannot even be the only excuse at this point because it was awful service in the summer too. Over it.',\n",
            "       b'poor storm customer service,  hr takeoff delay waiting for the snack cart, rude steward (no names) and I love you guys.',\n",
            "       b'I now learned that customer service at SXM works for the airport, not JetBlue. They need a supervisor to do anything.',\n",
            "       b\"I can't wait to never fly with you again. Always delayed. Always lose my bag. Rudest people on the planet. Southwest is the best\",\n",
            "       b'well we should have been told that before we were sitting on the plane for an hour to have the option of not getting on.',\n",
            "       b'but my bag is still missing',\n",
            "       b'love how \"friendly\" your staff is when asking for updates on delayed flights causing missed connections.',\n",
            "       b'sorry so Late Flight, responded to your DM.',\n",
            "       b'Joni did a great job on flight      to LAX. Thanks for a great flight.',\n",
            "       b'flight      FLL to ATL. My wife traveling with infant. Line to check baggage     people long due to your computer system crash',\n",
            "       b'Flight     last night was Will be a long time before I recommend United to anyone.',\n",
            "       b'Thanks!',\n",
            "       b'flight delayed-no one remembered to turn the heat on flight     leaving ORD-seriously???',\n",
            "       b\"how can a plane that has been sitting in a hanger all day have numerous mechanical problems. Doesn't anyone actually do maintenance\",\n",
            "       b\" I was told it would be emailed to me, but I haven't received anything yet. How can I follow-up?\",\n",
            "       b'I am in meetings in California and have no luggage!!',\n",
            "       b'thanks to FA Shawn for spectacular service on FLT    LHRDFW and to FA Susan for such a warm engaging onboard welcome',\n",
            "       b\"still not in the air for deicing of plane. I'll miss connect but customer service was helpful.I'm hoping to catch the next flight\",\n",
            "       b'so, not only were you Late Flight, you broke my luggage handle. You paying for a new one? http://t.co/nYVV X d  ',\n",
            "       b'.@united Our newest delay, right now http://t.co/  fTLZWtvO',\n",
            "       b\"I'm not a child. I'm someone who has an issue with flying and prepares ahead of time to reduce the distress caused by planes. You\",\n",
            "       b'pure anarchy on flight     to SLC. People walking in with nothing packed in bags with arms full of stuff.',\n",
            "       b\"great job TYR ground crew...now let's get this bird outta here!!!  Tell flight      to wait on me...be there in    mikes!\",\n",
            "       b'I love and appreciate the fact that you guys rarely Cancelled Flight flights and are on time, but I need a Cancelled Flightlation this time. \\xf0\\x9f\\x99\\x8f',\n",
            "       b'You need to be more accommodating to your loyal customers. Not happy now!',\n",
            "       b'I already let them know and sent   complaints.  Got a call back finally when I was asleep and there is no return call back',\n",
            "       b'to speak to a real person to get this resolved politely and efficiently. ( / )',\n",
            "       b\"the only time I tweet is to tell you how horrible you're attendants are. Flight      to LGA. I feel in jail\",\n",
            "       b'why would a flight arrive Late Flight or leave when   % of your passengers have  a connection?',\n",
            "       b'a school trip of    including myself had to sleep over in the airport and are all on different standby flights.This is not good',\n",
            "       b'Doubt it. Gate   x is a cluster, and every agent encounter I saw (including one with me) was outright rude. Just very put off.',\n",
            "       b'Can you transfer my bags too?',\n",
            "       b\"would have been nice if the agents were at the very least courteous since the delay was AA's fault\",\n",
            "       b\"A day Late Flightr, one delayed &amp; one Cancelled Flightled flight, I'm at a gate with no seat assign. Lots of standby ppl also waiting.\",\n",
            "       b'-LGA-ORD UA    . Did not get agent name. Argument over baggage policy.',\n",
            "       b\"the worst flying experience I've ever suffered through. I'd appreciate my money back.\",\n",
            "       b'is probably losing a family of world travelers as customers due to broken processes. I hope you can fix it',\n",
            "       b\"I have not. There's no option for even getting a call back!\",\n",
            "       b'LET US OFF THIS PLANE!!!  please go to a gate.  This is absurd.',\n",
            "       b'  segments,  /  delayed. Gnv &gt; CTL . CTL &gt; JAN . JAN &gt; CTL . CTL &gt; GNV. My year off from flying with you guys was the way to go.',\n",
            "       b'huge fan of great brands and people doing great things\\xe2\\x80\\xa6 you guys rock happy to share the love!',\n",
            "       b'  hours Late Flightr And i lost my conection \\xf0\\x9f\\x98\\xa1',\n",
            "       b\"didn't find them unfortunately :( but he was very helpful and took down my info incase they do get found\",\n",
            "       b'shout out to the flight crew for taking amazing care of us on our double down flight!',\n",
            "       b'You will be hearing a lot more from me instead of your feedback when I get back home.',\n",
            "       b\"Seriously, what is your solution? Who exactly will help my   year old if there's a problem with the plane? http://t.co/vPDRPLXj a\",\n",
            "       b'yes. It says bag is being delivered. The local number says Not Open. Asked main for cust service got hung up on.',\n",
            "       b\"it was not - still don't know where skis are and cannot get a call back from bag svc at airport (left several msgs)\",\n",
            "       b\"\\xf0\\x9f\\x91\\x8d. I think I'll come take a nap at the terminal.  ;)\",\n",
            "       b\"\\xe2\\x80\\x9c@JetBlue: Our fleet's on fleek. http://t.co/ iM rHIvyR\\xe2\\x80\\x9d Plz stop\",\n",
            "       b'why do you continually play the \"according to federal regulations\" every    seconds. I could see if you had quicker service...',\n",
            "       b\"PR-friendly tweets don't help drive accountability. Hope Mr. Hayes takes note.\",\n",
            "       b\"Learn to hold connections. They texted me there is another flight Late Flightr - my connection hasn't left and were pulling into the gate\"],\n",
            "      dtype=object), array([0., 0., 0., 0., 1., 1., 0., 0., 0., 0., 1., 0., 0., 0., 0., 0., 0.,\n",
            "       0., 0., 1., 0., 0., 1., 0., 0., 0., 0., 1., 1., 0., 0., 0., 0., 1.,\n",
            "       1., 0., 0., 0., 0., 0., 0., 0., 0., 0., 0., 0., 0., 0., 0., 0., 0.,\n",
            "       1., 0., 0., 1., 0., 0., 0., 0., 0., 0., 0., 0., 0.], dtype=float32))\n"
          ]
        }
      ]
    },
    {
      "cell_type": "code",
      "metadata": {
        "colab": {
          "base_uri": "https://localhost:8080/"
        },
        "id": "Iqbuw78t8aiu",
        "outputId": "9d736ac4-ecf1-4311-921a-ccc34edd55f9"
      },
      "source": [
        "model_builder = SentimentLSTMDense64Dense32Dense16Dense8Dense1(tf_ds_store=tweet_review_tf_ds)\n",
        "model_builder.build_model()\n",
        "model = model_builder.get_model()\n",
        "model_trainer = ModelTrainValidatePredict(tweet_review_tf_ds, model)\n",
        "model_trainer.predict(\"This is a bad review\")"
      ],
      "execution_count": 8,
      "outputs": [
        {
          "output_type": "execute_result",
          "data": {
            "text/plain": [
              "array([[0.00035695]], dtype=float32)"
            ]
          },
          "metadata": {},
          "execution_count": 8
        }
      ]
    },
    {
      "cell_type": "code",
      "metadata": {
        "colab": {
          "base_uri": "https://localhost:8080/"
        },
        "id": "M1N9Mdhb8ztk",
        "outputId": "876fbce8-6c10-42dc-c7ec-6fa05b23ecf6"
      },
      "source": [
        "model_trainer.train()\n",
        "model_trainer.evaluate()"
      ],
      "execution_count": 9,
      "outputs": [
        {
          "output_type": "stream",
          "name": "stdout",
          "text": [
            "Epoch 1/10\n",
            "144/145 [============================>.] - ETA: 0s - loss: 0.5981 - accuracy: 0.7958WARNING:tensorflow:Your input ran out of data; interrupting training. Make sure that your dataset or generator can generate at least `steps_per_epoch * epochs` batches (in this case, 30 batches). You may need to use the repeat() function when building your dataset.\n",
            "145/145 [==============================] - 22s 94ms/step - loss: 0.5976 - accuracy: 0.7961 - val_loss: 0.4453 - val_accuracy: 0.7917\n",
            "Epoch 2/10\n",
            "145/145 [==============================] - 10s 69ms/step - loss: 0.4007 - accuracy: 0.7961\n",
            "Epoch 3/10\n",
            "145/145 [==============================] - 9s 65ms/step - loss: 0.3093 - accuracy: 0.7961\n",
            "Epoch 4/10\n",
            "145/145 [==============================] - 10s 67ms/step - loss: 0.2345 - accuracy: 0.8142\n",
            "Epoch 5/10\n",
            "145/145 [==============================] - 10s 67ms/step - loss: 0.1593 - accuracy: 0.9378\n",
            "Epoch 6/10\n",
            "145/145 [==============================] - 10s 68ms/step - loss: 0.1142 - accuracy: 0.9621\n",
            "Epoch 7/10\n",
            "145/145 [==============================] - 10s 70ms/step - loss: 0.0865 - accuracy: 0.9723\n",
            "Epoch 8/10\n",
            "145/145 [==============================] - 10s 67ms/step - loss: 0.0661 - accuracy: 0.9791\n",
            "Epoch 9/10\n",
            "145/145 [==============================] - 10s 66ms/step - loss: 0.0513 - accuracy: 0.9842\n",
            "Epoch 10/10\n",
            "145/145 [==============================] - 10s 68ms/step - loss: 0.0392 - accuracy: 0.9890\n",
            "3/3 [==============================] - 1s 145ms/step - loss: 0.3429 - accuracy: 0.9151\n"
          ]
        },
        {
          "output_type": "execute_result",
          "data": {
            "text/plain": [
              "(0.34294378757476807, 0.9151147603988647)"
            ]
          },
          "metadata": {},
          "execution_count": 9
        }
      ]
    },
    {
      "cell_type": "code",
      "metadata": {
        "colab": {
          "base_uri": "https://localhost:8080/"
        },
        "id": "N830dxYJ9nOD",
        "outputId": "e707a9cc-9d39-4e12-a3f6-448e50b7c2ea"
      },
      "source": [
        "print(\"after training, bad review:\" + str(model_trainer.predict(\"This is a bad review\")))\n",
        "print(\"after training, good review:\" + str(model_trainer.predict(\"This is a good review\")))"
      ],
      "execution_count": 10,
      "outputs": [
        {
          "output_type": "stream",
          "name": "stdout",
          "text": [
            "after training, bad review:[[-1.1517106]]\n",
            "after training, good review:[[2.328628]]\n"
          ]
        }
      ]
    },
    {
      "cell_type": "code",
      "metadata": {
        "id": "JKJPJRRLAyOS"
      },
      "source": [
        "sequence_model_weights = KerasSequenceModelWeights()\n",
        "sequence_model_weights.set_model(model)\n",
        "sequence_model_weights.read_weights_from_model()\n",
        "sequence_model_weights.write_weights_to_file(\"weights.json\")"
      ],
      "execution_count": 11,
      "outputs": []
    },
    {
      "cell_type": "code",
      "metadata": {
        "id": "pHhz3xtnB9fM"
      },
      "source": [
        "second_model_builder = SentimentLSTMDense64Dense32Dense16Dense8Dense1(tf_ds_store=tweet_review_tf_ds)\n",
        "second_model_builder.build_model()\n",
        "second_model = second_model_builder.get_model()\n",
        "second_model_tvp = ModelTrainValidatePredict(tweet_review_tf_ds, second_model)"
      ],
      "execution_count": 12,
      "outputs": []
    },
    {
      "cell_type": "code",
      "metadata": {
        "colab": {
          "base_uri": "https://localhost:8080/"
        },
        "id": "rzGZpm3_EgpR",
        "outputId": "554f23d1-42cd-4789-b343-181185e89f1d"
      },
      "source": [
        "print(\"------------------------------------------------------------\")\n",
        "print(\"before loading the trained weights - for bad review\" + str(second_model_tvp.predict(\"This is a bad review\")))\n",
        "print(\"before loading the trained weights - for good review\" + str(second_model_tvp.predict(\"This is a good review\")))\n",
        "another_sequence_model_weights = KerasSequenceModelWeights()\n",
        "another_sequence_model_weights.set_model(second_model)\n",
        "loaded_weights = another_sequence_model_weights.load_weights_from_file(\"weights.json\")\n",
        "another_sequence_model_weights.set_weights_to_model()\n",
        "print(\"after loading the trained weights - for bad review\" + str(second_model_tvp.predict(\"This is a bad review\")))\n",
        "print(\"after loading the trained weights - for good review\" + str(second_model_tvp.predict(\"This is a good review\")))\n",
        "print(\"------------------------------------------------------------\")"
      ],
      "execution_count": 13,
      "outputs": [
        {
          "output_type": "stream",
          "name": "stdout",
          "text": [
            "------------------------------------------------------------\n",
            "before loading the trained weights - for bad review[[0.00408718]]\n",
            "before loading the trained weights - for good review[[0.00474533]]\n",
            "after loading the trained weights - for bad review[[-1.1517106]]\n",
            "after loading the trained weights - for good review[[2.328628]]\n",
            "------------------------------------------------------------\n"
          ]
        },
        {
          "output_type": "stream",
          "name": "stderr",
          "text": [
            "/usr/local/lib/python3.7/dist-packages/numpy/core/_asarray.py:83: VisibleDeprecationWarning: Creating an ndarray from ragged nested sequences (which is a list-or-tuple of lists-or-tuples-or ndarrays with different lengths or shapes) is deprecated. If you meant to do this, you must specify 'dtype=object' when creating the ndarray\n",
            "  return array(a, dtype, copy=False, order=order)\n"
          ]
        }
      ]
    }
  ]
}